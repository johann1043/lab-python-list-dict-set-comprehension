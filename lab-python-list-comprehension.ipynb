{
 "cells": [
  {
   "cell_type": "markdown",
   "id": "25d7736c-ba17-4aff-b6bb-66eba20fbf4e",
   "metadata": {},
   "source": [
    "# Lab | List, Dict and Set Comprehension"
   ]
  },
  {
   "cell_type": "markdown",
   "id": "7dd3cbde-675a-4b81-92c3-f728846dbe06",
   "metadata": {},
   "source": [
    "## Exercise: Managing Customer Orders Optimized with Comprehension"
   ]
  },
  {
   "cell_type": "markdown",
   "id": "5d500160-2fb7-4777-b5e4-09d45ebaf328",
   "metadata": {},
   "source": [
    "In the previous exercise, you developed a program to manage customer orders and inventory. Now, let's take it a step further and incorporate comprehension into your code.\n",
    "\n",
    "Follow the steps below to complete the exercise:\n",
    "\n",
    "1. Review your code from the previous exercise and identify areas where you can apply comprehension to simplify and streamline your code. \n",
    "\n",
    "    - *Hint: Apply it to initialize inventory, updating the inventory and printing the updated inventory.*\n",
    "    \n",
    "    - For example, in initializing the inventory, we could have:\n",
    "    \n",
    "        ```python\n",
    "        def initialize_inventory(products):\n",
    "            inventory = {product: int(input(f\"Enter the quantity of {product}s available: \")) for product in products}\n",
    "            return inventory\n",
    "\n",
    "        ```\n",
    "<br>\n",
    "    \n",
    "    \n",
    "2. Modify the function get_customer_orders so it prompts the user to enter the number of customer orders and gathers the product names using a loop and user input. Use comprehension.\n",
    "\n",
    "3. Add a new function to calculate the total price of the customer order. For each product in customer_orders, prompt the user to enter the price of that product. Use comprehension to calculate the total price. Note: assume that the user can only have 1 unit of each product.\n",
    "\n",
    "4. Modify the update_inventory function to remove the product from the inventory if its quantity becomes zero after fulfilling the customer orders. Use comprehension to filter out the products with a quantity of zero from the inventory.\n",
    "\n",
    "5. Print the total price of the customer order.\n",
    "\n",
    "Your code should produce output similar to the following:\n",
    "\n",
    "```python\n",
    "Enter the quantity of t-shirts available:  5\n",
    "Enter the quantity of mugs available:  4\n",
    "Enter the quantity of hats available:  3\n",
    "Enter the quantity of books available:  2\n",
    "Enter the quantity of keychains available:  1\n",
    "Enter the number of customer orders:  2\n",
    "Enter the name of a product that a customer wants to order:  hat\n",
    "Enter the name of a product that a customer wants to order:  keychain\n",
    "\n",
    "Order Statistics:\n",
    "Total Products Ordered: 2\n",
    "Percentage of Unique Products Ordered: 40.0\n",
    "\n",
    "Updated Inventory:\n",
    "t-shirt: 5\n",
    "mug: 4\n",
    "hat: 2\n",
    "book: 2\n",
    "Enter the price of keychain:  5\n",
    "Enter the price of hat:  10\n",
    "Total Price: 15.0\n",
    "\n",
    "```\n"
   ]
  },
  {
   "cell_type": "markdown",
   "id": "66605707-b276-403e-b917-3b561755fe90",
   "metadata": {},
   "source": []
  },
  {
   "cell_type": "code",
   "execution_count": 86,
   "id": "f141e030-27b4-4055-86fa-275bacf4ff74",
   "metadata": {
    "tags": []
   },
   "outputs": [],
   "source": [
    "product_list = [\"t-shirt\", \"mug\", \"hat\", \"book\", \"keychain\"]"
   ]
  },
  {
   "cell_type": "code",
   "execution_count": 87,
   "id": "59acb2bf-00c5-4256-a469-6374c59af586",
   "metadata": {
    "tags": []
   },
   "outputs": [],
   "source": [
    "def initialize_inventory(products):\n",
    "    inventory = {product: int(input(f\"Enter the quantity of {product}s available: \")) for product in products}\n",
    "    return inventory  "
   ]
  },
  {
   "cell_type": "code",
   "execution_count": 88,
   "id": "7ddc088d-2086-40a4-b181-0b2f1c7e927d",
   "metadata": {
    "tags": []
   },
   "outputs": [],
   "source": [
    "def get_customer_orders():\n",
    "    more_order = True\n",
    "    customer_orders = []\n",
    "    while more_order == True:\n",
    "\n",
    "        customer_orders.append(input(f\"Please enter the item from this list that you would like to add to your order: {product_list} \"))\n",
    "\n",
    "        answer = input(\"Do you want to order an other item from the list? Input y for yes or n for no\")\n",
    "\n",
    "        if answer == 'y':\n",
    "            print()\n",
    "        elif answer == 'n':\n",
    "            more_order = False\n",
    "    return customer_orders"
   ]
  },
  {
   "cell_type": "code",
   "execution_count": 118,
   "id": "9743a73e-574b-4ac3-b5cf-dc55669b62aa",
   "metadata": {
    "tags": []
   },
   "outputs": [],
   "source": [
    "def update_inventory(customer_orders, inventory):\n",
    "    inventory = {item: value - 1 if item in customer_orders else value for (item, value) in inventory.items()}\n",
    "    inventory = {item: value if value > 0 else None for (item, value) in inventory.items()}\n",
    "    return inventory"
   ]
  },
  {
   "cell_type": "markdown",
   "id": "b052f7fc-849d-4c30-b7e0-74e6a181d94f",
   "metadata": {},
   "source": [
    "Add a new function to calculate the total price of the customer order. For each product in customer_orders, prompt the user to enter the price of that product. Use comprehension to calculate the total price. Note: assume that the user can only have 1 unit of each product."
   ]
  },
  {
   "cell_type": "code",
   "execution_count": 103,
   "id": "ebb6496d-b1aa-4c23-a8e6-149f5418f23c",
   "metadata": {
    "tags": []
   },
   "outputs": [],
   "source": [
    "def calculate_total_price (customer_orders):\n",
    "    add_price = {item: int(input(f\"Please enter the price of {item} (only numbers)\")) for item in customer_orders} \n",
    "    print(sum(add_price.values()))\n",
    "    return sum(add_price.values())"
   ]
  },
  {
   "cell_type": "code",
   "execution_count": 91,
   "id": "4d497b08-9265-4c53-8aaa-879ba6dad109",
   "metadata": {
    "tags": []
   },
   "outputs": [],
   "source": [
    "def calculate_order_statistics(customer_orders, products):\n",
    "    order_status = len(customer_orders), len(customer_orders)/sum(products.values())*100\n",
    "    return order_status"
   ]
  },
  {
   "cell_type": "code",
   "execution_count": 92,
   "id": "03811f29-7471-4adf-a8ab-72c94d4cdab5",
   "metadata": {
    "tags": []
   },
   "outputs": [],
   "source": [
    "def print_order_statistics(order_statistics):\n",
    "    print(f'Order Statistics: Total Products Ordered: {order_statistics[0]} , Percentage of Products Ordered: {int(order_statistics[1])}%')"
   ]
  },
  {
   "cell_type": "code",
   "execution_count": 93,
   "id": "88b0c3f8-9a9d-4827-bb4e-e592f7702117",
   "metadata": {
    "tags": []
   },
   "outputs": [],
   "source": [
    "def print_updated_inventory(inventory):\n",
    "    print(inventory)"
   ]
  },
  {
   "cell_type": "code",
   "execution_count": 119,
   "id": "cb0cc99a-e1eb-4104-9b1f-35c26284b26c",
   "metadata": {
    "tags": []
   },
   "outputs": [
    {
     "name": "stdin",
     "output_type": "stream",
     "text": [
      "Enter the quantity of t-shirts available:  0\n",
      "Enter the quantity of mugs available:  1\n",
      "Enter the quantity of hats available:  10\n",
      "Enter the quantity of books available:  10\n",
      "Enter the quantity of keychains available:  10\n",
      "Please enter the item from this list that you would like to add to your order: ['t-shirt', 'mug', 'hat', 'book', 'keychain']  mug\n",
      "Do you want to order an other item from the list? Input y for yes or n for no y\n"
     ]
    },
    {
     "name": "stdout",
     "output_type": "stream",
     "text": [
      "\n"
     ]
    },
    {
     "name": "stdin",
     "output_type": "stream",
     "text": [
      "Please enter the item from this list that you would like to add to your order: ['t-shirt', 'mug', 'hat', 'book', 'keychain']  hat\n",
      "Do you want to order an other item from the list? Input y for yes or n for no n\n",
      "Please enter the price of mug (only numbers) 12\n",
      "Please enter the price of hat (only numbers) 12\n"
     ]
    },
    {
     "name": "stdout",
     "output_type": "stream",
     "text": [
      "24\n"
     ]
    },
    {
     "ename": "TypeError",
     "evalue": "unsupported operand type(s) for +: 'int' and 'NoneType'",
     "output_type": "error",
     "traceback": [
      "\u001b[1;31m---------------------------------------------------------------------------\u001b[0m",
      "\u001b[1;31mTypeError\u001b[0m                                 Traceback (most recent call last)",
      "Cell \u001b[1;32mIn[119], line 5\u001b[0m\n\u001b[0;32m      3\u001b[0m inventory \u001b[38;5;241m=\u001b[39m update_inventory(customer_orders, inventory)\n\u001b[0;32m      4\u001b[0m calculate_total_price (customer_orders)\n\u001b[1;32m----> 5\u001b[0m order_statistics \u001b[38;5;241m=\u001b[39m calculate_order_statistics(customer_orders, inventory)  \n\u001b[0;32m      6\u001b[0m print_order_statistics(order_statistics)\n\u001b[0;32m      7\u001b[0m print_updated_inventory(inventory)\n",
      "Cell \u001b[1;32mIn[91], line 2\u001b[0m, in \u001b[0;36mcalculate_order_statistics\u001b[1;34m(customer_orders, products)\u001b[0m\n\u001b[0;32m      1\u001b[0m \u001b[38;5;28;01mdef\u001b[39;00m \u001b[38;5;21mcalculate_order_statistics\u001b[39m(customer_orders, products):\n\u001b[1;32m----> 2\u001b[0m     order_status \u001b[38;5;241m=\u001b[39m \u001b[38;5;28mlen\u001b[39m(customer_orders), \u001b[38;5;28mlen\u001b[39m(customer_orders)\u001b[38;5;241m/\u001b[39m\u001b[38;5;28msum\u001b[39m(products\u001b[38;5;241m.\u001b[39mvalues())\u001b[38;5;241m*\u001b[39m\u001b[38;5;241m100\u001b[39m\n\u001b[0;32m      3\u001b[0m     \u001b[38;5;28;01mreturn\u001b[39;00m order_status\n",
      "\u001b[1;31mTypeError\u001b[0m: unsupported operand type(s) for +: 'int' and 'NoneType'"
     ]
    }
   ],
   "source": [
    "inventory = initialize_inventory(product_list)\n",
    "customer_orders = get_customer_orders()\n",
    "inventory = update_inventory(customer_orders, inventory)\n",
    "calculate_total_price (customer_orders)\n",
    "order_statistics = calculate_order_statistics(customer_orders, inventory)  \n",
    "print_order_statistics(order_statistics)\n",
    "print_updated_inventory(inventory)"
   ]
  },
  {
   "cell_type": "code",
   "execution_count": 101,
   "id": "4d90ebc4-5447-40e7-9ab7-48d7b768ff9d",
   "metadata": {
    "tags": []
   },
   "outputs": [
    {
     "name": "stdin",
     "output_type": "stream",
     "text": [
      "Please enter the price of mug (only numbers) 23\n",
      "Please enter the price of hat (only numbers) 24\n"
     ]
    },
    {
     "data": {
      "text/plain": [
       "47"
      ]
     },
     "execution_count": 101,
     "metadata": {},
     "output_type": "execute_result"
    }
   ],
   "source": []
  },
  {
   "cell_type": "code",
   "execution_count": null,
   "id": "662bbd21-3bed-4956-a72f-182b74e2e68e",
   "metadata": {},
   "outputs": [],
   "source": []
  }
 ],
 "metadata": {
  "kernelspec": {
   "display_name": "Python 3 (ipykernel)",
   "language": "python",
   "name": "python3"
  },
  "language_info": {
   "codemirror_mode": {
    "name": "ipython",
    "version": 3
   },
   "file_extension": ".py",
   "mimetype": "text/x-python",
   "name": "python",
   "nbconvert_exporter": "python",
   "pygments_lexer": "ipython3",
   "version": "3.11.5"
  }
 },
 "nbformat": 4,
 "nbformat_minor": 5
}
